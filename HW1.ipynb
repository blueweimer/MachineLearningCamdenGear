{
  "nbformat": 4,
  "nbformat_minor": 0,
  "metadata": {
    "colab": {
      "provenance": []
    },
    "kernelspec": {
      "name": "python3",
      "display_name": "Python 3"
    },
    "language_info": {
      "name": "python"
    }
  },
  "cells": [
    {
      "cell_type": "code",
      "execution_count": 1,
      "metadata": {
        "colab": {
          "base_uri": "https://localhost:8080/"
        },
        "id": "pC5NyEdR7eEC",
        "outputId": "3f40add9-ef80-48ac-b5d6-3a51f5855fe7"
      },
      "outputs": [
        {
          "output_type": "stream",
          "name": "stdout",
          "text": [
            "Sorted: [19, 19, 20, 22, 24, 24, 24, 25, 25, 26, 19, 26]\n",
            "Min: 19\n",
            "Max: 26\n",
            "Median: 24.0\n",
            "Average: 22.75\n",
            "Range: 7\n"
          ]
        }
      ],
      "source": [
        "#ages\n",
        "ages = [19, 22, 19, 24, 20, 25, 26, 24, 25, 24]\n",
        "\n",
        "#sort\n",
        "ages.sort()\n",
        "\n",
        "# Min/max\n",
        "min_age = min(ages)\n",
        "max_age = max(ages)\n",
        "\n",
        "# add min/max to list\n",
        "ages.extend([min_age, max_age])\n",
        "\n",
        "# median\n",
        "n = len(ages)\n",
        "if n % 2 == 1:\n",
        "    median_age = ages[n // 2]\n",
        "else:\n",
        "    median_age = (ages[n // 2 - 1] + ages[n // 2]) / 2\n",
        "\n",
        "# average\n",
        "average_age = sum(ages) / len(ages)\n",
        "\n",
        "# range\n",
        "age_range = max_age - min_age\n",
        "\n",
        "# Results\n",
        "print(\"Sorted:\", ages)\n",
        "print(\"Min:\", min_age)\n",
        "print(\"Max:\", max_age)\n",
        "print(\"Median:\", median_age)\n",
        "print(\"Average:\", average_age)\n",
        "print(\"Range:\", age_range)"
      ]
    },
    {
      "cell_type": "code",
      "source": [
        "dog = {}\n",
        "\n",
        "# Add characteristics\n",
        "dog[\"name\"] = \"Oli\"\n",
        "dog[\"color\"] = \"White\"\n",
        "dog[\"breed\"] = \"Australian Shepherd\"\n",
        "dog[\"legs\"] = 4\n",
        "dog[\"age\"] = 4\n",
        "\n",
        "# student\n",
        "student = {\n",
        "    \"first_name\": \"Camden\",\n",
        "    \"last_name\": \"Gear\",\n",
        "    \"gender\": \"Male\",\n",
        "    \"age\": 21,\n",
        "    \"marital_status\": \"Single\",\n",
        "    \"skills\": [\"coding\"],\n",
        "    \"country\": \"United States\",\n",
        "    \"city\": \"Sedalia\",\n",
        "    \"address\": \"1800 House Blvd.\"\n",
        "}\n",
        "\n",
        "# student length\n",
        "student_len = len(student)\n",
        "\n",
        "# skills\n",
        "skills_value = student[\"skills\"]\n",
        "\n",
        "#data type\n",
        "skills_data_type = type(skills_value)\n",
        "\n",
        "# adding skills\n",
        "student[\"skills\"].extend(\"programming\")\n",
        "\n",
        "# list of keys\n",
        "keys_list = list(student.keys())\n",
        "\n",
        "# list of values\n",
        "values_list = list(student.values())\n",
        "\n",
        "# Results\n",
        "print(\"Dog:\", dog)\n",
        "print(\"Student:\", student)\n",
        "print(\"Length of Student:\", student_len)\n",
        "print(\"Skills Type:\", skills_data_type)\n",
        "print(\"Skills Value:\", student[\"skills\"])\n",
        "print(\"List of Keys:\", keys_list)\n",
        "print(\"List of Values:\", values_list)\n"
      ],
      "metadata": {
        "colab": {
          "base_uri": "https://localhost:8080/"
        },
        "id": "xwg6n82e8MVU",
        "outputId": "f3fce12c-2799-4635-c0ae-0c47386c6ae6"
      },
      "execution_count": 6,
      "outputs": [
        {
          "output_type": "stream",
          "name": "stdout",
          "text": [
            "Dog: {'name': 'Oli', 'color': 'White', 'breed': 'Australian Shepherd', 'legs': 4, 'age': 4}\n",
            "Student: {'first_name': 'Camden', 'last_name': 'Gear', 'gender': 'Male', 'age': 21, 'marital_status': 'Single', 'skills': ['coding', 'p', 'r', 'o', 'g', 'r', 'a', 'm', 'm', 'i', 'n', 'g'], 'country': 'United States', 'city': 'Sedalia', 'address': '1800 House Blvd.'}\n",
            "Length of Student: 9\n",
            "Skills Type: <class 'list'>\n",
            "Skills Value: ['coding', 'p', 'r', 'o', 'g', 'r', 'a', 'm', 'm', 'i', 'n', 'g']\n",
            "List of Keys: ['first_name', 'last_name', 'gender', 'age', 'marital_status', 'skills', 'country', 'city', 'address']\n",
            "List of Values: ['Camden', 'Gear', 'Male', 21, 'Single', ['coding', 'p', 'r', 'o', 'g', 'r', 'a', 'm', 'm', 'i', 'n', 'g'], 'United States', 'Sedalia', '1800 House Blvd.']\n"
          ]
        }
      ]
    },
    {
      "cell_type": "code",
      "source": [
        "sisters = (\"Alice\", \"Emily\", \"Grace\")\n",
        "brothers = (\"Bob\", \"Charlie\", \"David\")\n",
        "\n",
        "# siblings\n",
        "siblings = brothers + sisters\n",
        "\n",
        "# num of siblings\n",
        "num_siblings = len(siblings)\n",
        "\n",
        "# father and mother\n",
        "father_and_mother = (\"father\", \"mother\")\n",
        "family_members = siblings + father_and_mother\n",
        "\n",
        "# Print the results\n",
        "print(\"Sisters:\", sisters)\n",
        "print(\"Brothers:\", brothers)\n",
        "print(\"Siblings:\", siblings)\n",
        "print(\"Num of Siblings:\", num_siblings)\n",
        "print(\"Family_members:\", family_members)\n"
      ],
      "metadata": {
        "colab": {
          "base_uri": "https://localhost:8080/"
        },
        "id": "uOd18yF2-C8D",
        "outputId": "63a12347-efac-4cac-e65a-f77cdaf81390"
      },
      "execution_count": 21,
      "outputs": [
        {
          "output_type": "stream",
          "name": "stdout",
          "text": [
            "Sisters: ('Alice', 'Emily', 'Grace')\n",
            "Brothers: ('Bob', 'Charlie', 'David')\n",
            "Siblings: ('Bob', 'Charlie', 'David', 'Alice', 'Emily', 'Grace')\n",
            "Num of Siblings: 6\n",
            "Family_members: ('Bob', 'Charlie', 'David', 'Alice', 'Emily', 'Grace', 'father', 'mother')\n"
          ]
        }
      ]
    },
    {
      "cell_type": "code",
      "source": [
        "it_companies = {'Facebook', 'Google', 'Microsoft', 'Apple', 'IBM', 'Oracle', 'Amazon'}\n",
        "A = {19, 22, 24, 20, 25, 26}\n",
        "B = {19, 22, 20, 25, 26, 24, 28, 27}\n",
        "age = [22, 19, 24, 25, 26, 24, 25, 24]\n",
        "\n",
        "# it length\n",
        "length_it_companies = len(it_companies)\n",
        "\n",
        "# twitter\n",
        "it_companies.add('Twitter')\n",
        "\n",
        "# insert companies\n",
        "it_companies.update({'Reddit', 'Ebay'})\n",
        "\n",
        "# remove company\n",
        "it_companies.remove('IBM')\n",
        "\n",
        "# Join\n",
        "joined_set = A.union(B)\n",
        "\n",
        "# intersection\n",
        "intersection_set = A.intersection(B)\n",
        "\n",
        "# Is subset\n",
        "is_subset = A.issubset(B)\n",
        "\n",
        "# disjoint sets\n",
        "are_disjoint = A.isdisjoint(B)\n",
        "\n",
        "# join\n",
        "A.update(B)\n",
        "B.update(A)\n",
        "\n",
        "# symmetric difference\n",
        "symmetric_difference = A.symmetric_difference(B)\n",
        "\n",
        "# Delete sets\n",
        "del it_companies\n",
        "del A\n",
        "del B\n",
        "\n",
        "# length age list\n",
        "age_set = set(age)\n",
        "length_age_list = len(age)\n",
        "length_age_set = len(age_set)\n",
        "\n",
        "# Results\n",
        "print(\"Length of it_companies:\", length_it_companies)\n",
        "print(\"Joined set of A and B:\", joined_set)\n",
        "print(\"Intersection of A and B:\", intersection_set)\n",
        "print(\"Is A subset of B:\", is_subset)\n",
        "print(\"Are A and B disjoint sets:\", are_disjoint)\n",
        "print(\"Symmetric difference between A and B:\", symmetric_difference)\n",
        "print(\"Length of age list:\", length_age_list)\n",
        "print(\"Length of age set:\", length_age_set)\n"
      ],
      "metadata": {
        "colab": {
          "base_uri": "https://localhost:8080/"
        },
        "id": "k32fdwQ1_Spv",
        "outputId": "b8ecd13f-702a-464f-935e-2dd25e1c2cc8"
      },
      "execution_count": 22,
      "outputs": [
        {
          "output_type": "stream",
          "name": "stdout",
          "text": [
            "Length of it_companies: 7\n",
            "Joined set of A and B: {19, 20, 22, 24, 25, 26, 27, 28}\n",
            "Intersection of A and B: {19, 20, 22, 24, 25, 26}\n",
            "Is A subset of B: True\n",
            "Are A and B disjoint sets: False\n",
            "Symmetric difference between A and B: set()\n",
            "Length of age list: 8\n",
            "Length of age set: 5\n"
          ]
        }
      ]
    },
    {
      "cell_type": "code",
      "source": [
        "import math\n",
        "\n",
        "# radius\n",
        "radius_fixed = 30\n",
        "\n",
        "# area\n",
        "area_of_circle = math.pi * radius_fixed ** 2\n",
        "\n",
        "# circumference\n",
        "circum_of_circle = 2 * math.pi * radius_fixed\n",
        "\n",
        "# Results\n",
        "print(\"For a circle with a fixed radius of 30 meters:\")\n",
        "print(\"Area of the circle:\", area_of_circle)\n",
        "print(\"Circumference of the circle:\", circum_of_circle)\n",
        "\n",
        "#Part 2\n",
        "# radius\n",
        "user_radius = float(input(\"Enter the radius of the circle (in meters): \"))\n",
        "\n",
        "# area\n",
        "area_of_circle_user_input = math.pi * user_radius ** 2\n",
        "\n",
        "# Results\n",
        "print(\"For a circle with a user-input radius:\")\n",
        "print(\"Area of the circle:\", area_of_circle_user_input)\n"
      ],
      "metadata": {
        "colab": {
          "base_uri": "https://localhost:8080/"
        },
        "id": "jF--VyUf_eiK",
        "outputId": "956f1270-5d40-442e-aa8c-3d77feea53ea"
      },
      "execution_count": 23,
      "outputs": [
        {
          "output_type": "stream",
          "name": "stdout",
          "text": [
            "For a circle with a fixed radius of 30 meters:\n",
            "Area of the circle: 2827.4333882308138\n",
            "Circumference of the circle: 188.49555921538757\n",
            "Enter the radius of the circle (in meters): 1\n",
            "For a circle with a user-input radius:\n",
            "Area of the circle: 3.141592653589793\n"
          ]
        }
      ]
    },
    {
      "cell_type": "code",
      "source": [
        "sentence = \"I am a teacher and I love to inspire and teach people\"\n",
        "\n",
        "# split\n",
        "words = sentence.split()\n",
        "\n",
        "# to words\n",
        "unique_words = set(words)\n",
        "\n",
        "# unique words\n",
        "num_unique_words = len(unique_words)\n",
        "\n",
        "# Results\n",
        "print(\"Original Sentence:\", sentence)\n",
        "print(\"Unique Words:\", unique_words)\n",
        "print(\"Number of Unique Words:\", num_unique_words)\n"
      ],
      "metadata": {
        "colab": {
          "base_uri": "https://localhost:8080/"
        },
        "id": "doZE7eQv_sW1",
        "outputId": "7dbe3a17-2eed-4771-e139-ad30fa5f2108"
      },
      "execution_count": 24,
      "outputs": [
        {
          "output_type": "stream",
          "name": "stdout",
          "text": [
            "Original Sentence: I am a teacher and I love to inspire and teach people\n",
            "Unique Words: {'inspire', 'I', 'and', 'to', 'a', 'teach', 'people', 'love', 'teacher', 'am'}\n",
            "Number of Unique Words: 10\n"
          ]
        }
      ]
    },
    {
      "cell_type": "code",
      "source": [
        "print(\"Name\\tAge\\tCountry\\tCity\")\n",
        "print(\"Asabeneh\\t25\\tFinland\\tHelsinki\")"
      ],
      "metadata": {
        "colab": {
          "base_uri": "https://localhost:8080/"
        },
        "id": "iQzeAY2L_2tn",
        "outputId": "d1bf64fd-4b9c-4791-8e6d-4afecbfe6f5d"
      },
      "execution_count": 18,
      "outputs": [
        {
          "output_type": "stream",
          "name": "stdout",
          "text": [
            "Name\tAge\tCountry\tCity\n",
            "Asabeneh\t25\tFinland\tHelsinki\n"
          ]
        }
      ]
    },
    {
      "cell_type": "code",
      "source": [
        "radius = 10\n",
        "area = 3.14 * radius ** 2\n",
        "\n",
        "# result string\n",
        "result_string = f\"The area of a circle with radius {radius} is {area} meters square.\"\n",
        "\n",
        "# Result\n",
        "print(result_string)\n"
      ],
      "metadata": {
        "colab": {
          "base_uri": "https://localhost:8080/"
        },
        "id": "69ueOE49_-BF",
        "outputId": "651bfb71-3c18-4739-99a3-2428b8b8a83c"
      },
      "execution_count": 19,
      "outputs": [
        {
          "output_type": "stream",
          "name": "stdout",
          "text": [
            "The area of a circle with radius 10 is 314.0 meters square.\n"
          ]
        }
      ]
    },
    {
      "cell_type": "code",
      "source": [
        "num_students = int(input(\"Enter the number of students: \"))\n",
        "\n",
        "# weights(lbs)\n",
        "weights_lbs = []\n",
        "\n",
        "# read weights\n",
        "for i in range(num_students):\n",
        "    weight_lb = float(input(f\"Enter weight of student {i + 1} in pounds: \"))\n",
        "    weights_lbs.append(weight_lb)\n",
        "\n",
        "# weights to kilos\n",
        "weights_kg = [round(weight_lb * 0.453592, 2) for weight_lb in weights_lbs]\n",
        "\n",
        "# Results\n",
        "print(\"Weights in pounds:\", weights_lbs)\n",
        "print(\"Weights in kilograms:\", weights_kg)\n"
      ],
      "metadata": {
        "colab": {
          "base_uri": "https://localhost:8080/"
        },
        "id": "FNM9Rks8AEYH",
        "outputId": "5b798d6b-7cec-4eed-ee5a-c50768a7223c"
      },
      "execution_count": 25,
      "outputs": [
        {
          "output_type": "stream",
          "name": "stdout",
          "text": [
            "Enter the number of students: 2\n",
            "Enter weight of student 1 in pounds: 1\n",
            "Enter weight of student 2 in pounds: 1\n",
            "Weights in pounds: [1.0, 1.0]\n",
            "Weights in kilograms: [0.45, 0.45]\n"
          ]
        }
      ]
    }
  ]
}